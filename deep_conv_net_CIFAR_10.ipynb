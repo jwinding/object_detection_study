{
  "nbformat": 4,
  "nbformat_minor": 0,
  "metadata": {
    "colab": {
      "name": "deep conv-net CIFAR-10",
      "version": "0.3.2",
      "provenance": [],
      "collapsed_sections": [],
      "toc_visible": true,
      "include_colab_link": true
    },
    "kernelspec": {
      "name": "python3",
      "display_name": "Python 3"
    },
    "accelerator": "GPU"
  },
  "cells": [
    {
      "cell_type": "markdown",
      "metadata": {
        "id": "view-in-github",
        "colab_type": "text"
      },
      "source": [
        "<a href=\"https://colab.research.google.com/github/jwinding/object_detection_study/blob/master/deep_conv_net_CIFAR_10.ipynb\" target=\"_parent\"><img src=\"https://colab.research.google.com/assets/colab-badge.svg\" alt=\"Open In Colab\"/></a>"
      ]
    },
    {
      "cell_type": "markdown",
      "metadata": {
        "id": "EPblEAN3MSdh",
        "colab_type": "text"
      },
      "source": [
        "# Using a somewhat deep network with convolutional layers on CIFAR-10\n",
        "\n",
        "In this notebook I implement a vgg-11 network (roughly following the seminal work https://arxiv.org/pdf/1409.1556.pdf ), and train it on the CIFAR-10 dataset, achieving something like 98% validation accuracy. This is of course a bit like killing a mosquito with a nuke, but this was just a short learning excersize for me to familiarize myself with image classification basics. My next goal is to understand and implement the SSD-net architecture for object detection and localization. "
      ]
    },
    {
      "cell_type": "code",
      "metadata": {
        "id": "5JYfB1rT39Fa",
        "colab_type": "code",
        "colab": {}
      },
      "source": [
        "import numpy as np\n",
        "import matplotlib.pyplot as plt\n",
        "%matplotlib inline\n",
        "\n",
        "!pip install -q tensorflow-gpu==2.0.0-alpha0\n",
        "import tensorflow as tf\n",
        "import tensorflow_datasets as tfds\n",
        "keras = tf.keras "
      ],
      "execution_count": 0,
      "outputs": []
    },
    {
      "cell_type": "code",
      "metadata": {
        "id": "pfs7fWPO_uf8",
        "colab_type": "code",
        "colab": {}
      },
      "source": [
        "import os\n",
        "import pickle\n",
        "\n",
        "from tensorflow.keras.layers import Dense, Conv2D, MaxPooling2D, Dropout, Flatten\n",
        "from tensorflow.keras.regularizers import l2\n",
        "from tensorflow.keras.callbacks import ModelCheckpoint, History"
      ],
      "execution_count": 0,
      "outputs": []
    },
    {
      "cell_type": "markdown",
      "metadata": {
        "id": "QM6NaiwJ4zv1",
        "colab_type": "text"
      },
      "source": [
        "# Define the Model\n",
        "First, let's define a neural network, using convolutional layers, maxpooling, and lastly some fully connected layers with heavy dropout. This is basically the architecture presented in https://arxiv.org/pdf/1409.1556.pdf , but a bit shallower, since the CIFAR-10 dataset I'm training on is a lot smaller than ImageNet. Since the images are lower resolution, one also has to start with fewer filters in the conv2d layers, since using too many filters to start completely messes up the networks ability to extract any meaningful features. \n"
      ]
    },
    {
      "cell_type": "code",
      "metadata": {
        "id": "CJ5vyxDR5kNS",
        "colab_type": "code",
        "colab": {}
      },
      "source": [
        "# things describing the data we will use; in this case the CIFAR-10 dataset. \n",
        "\n",
        "NUM_CLASSES = 10  #number of classes we want to classify\n",
        "l2_reg = 0.0005\n",
        "\n",
        "\n",
        "\n",
        "# creating all the layers before adding them to the model. I create more layers\n",
        "# than I eventually use; mimicking the Vgg-16 model. \n",
        "conv1_1 = Conv2D(filters=16, kernel_size=(3,3),\n",
        "                 activation='relu', padding='same', \n",
        "                 kernel_initializer='he_normal',\n",
        "                 kernel_regularizer=l2(l2_reg),\n",
        "                 name='conv1_1')\n",
        "conv1_2 = Conv2D(16, (3,3), activation='relu', padding='same', \n",
        "                 kernel_initializer='he_normal', \n",
        "                 kernel_regularizer=l2(l2_reg),\n",
        "                 name='conv1_2')\n",
        "maxpool1 = MaxPooling2D(pool_size=(2, 2), strides=(2, 2), padding='same',\n",
        "                        name='pool1')\n",
        "\n",
        "conv2_1 = Conv2D(32, (3,3), activation='relu', padding='same', \n",
        "                 kernel_initializer='he_normal',\n",
        "                 kernel_regularizer=l2(l2_reg),\n",
        "                 name='conv2_1')\n",
        "conv2_2 = Conv2D(32, (3,3), activation='relu', padding='same', \n",
        "                 kernel_initializer='he_normal',\n",
        "                 kernel_regularizer=l2(l2_reg),\n",
        "                 name='conv2_2')\n",
        "maxpool2 = MaxPooling2D(pool_size=(2, 2), strides=(2, 2), padding='same',\n",
        "                        name='pool2')\n",
        "\n",
        "\n",
        "conv3_1 = Conv2D(64, (3,3), activation='relu', padding='same', \n",
        "                 kernel_initializer='he_normal',\n",
        "                 kernel_regularizer=l2(l2_reg),\n",
        "                 name='conv3_1')\n",
        "conv3_2 = Conv2D(64, (3,3), activation='relu', padding='same', \n",
        "                 kernel_initializer='he_normal',\n",
        "                 kernel_regularizer=l2(l2_reg),\n",
        "                 name='conv3_2')\n",
        "conv3_3 = Conv2D(64, (3,3), activation='relu', padding='same', \n",
        "                 kernel_initializer='he_normal',\n",
        "                 kernel_regularizer=l2(l2_reg),\n",
        "                 name='conv3_3')\n",
        "maxpool3 = MaxPooling2D(pool_size=(2, 2), strides=(2, 2), padding='same',\n",
        "                        name='pool3')\n",
        "\n",
        "conv4_1 = Conv2D(128, (3,3), activation='relu', padding='same', \n",
        "                 kernel_initializer='he_normal',\n",
        "                 kernel_regularizer=l2(l2_reg),\n",
        "                 name='conv4_1')\n",
        "conv4_2 = Conv2D(128, (3,3), activation='relu', padding='same', \n",
        "                 kernel_initializer='he_normal',\n",
        "                 kernel_regularizer=l2(l2_reg),\n",
        "                 name='conv4_2')\n",
        "conv4_3 = Conv2D(128, (3,3), activation='relu', padding='same', \n",
        "                 kernel_initializer='he_normal',\n",
        "                 kernel_regularizer=l2(l2_reg),\n",
        "                 name='conv4_3')\n",
        "maxpool4 = MaxPooling2D(pool_size=(2, 2), strides=(2, 2), padding='same',\n",
        "                        name='pool4')\n",
        "\n",
        "conv5_1 = Conv2D(256, (3,3), activation='relu', padding='same', \n",
        "                 kernel_initializer='he_normal',\n",
        "                 kernel_regularizer=l2(l2_reg),\n",
        "                 name='conv5_1')\n",
        "conv5_2 = Conv2D(256, (3,3), activation='relu', padding='same', \n",
        "                 kernel_initializer='he_normal',\n",
        "                 kernel_regularizer=l2(l2_reg),\n",
        "                 name='conv5_2')\n",
        "conv5_3 = Conv2D(256, (3,3), activation='relu', padding='same', \n",
        "                 kernel_initializer='he_normal',\n",
        "                 kernel_regularizer=l2(l2_reg),\n",
        "                 name='conv5_3')\n",
        "maxpool5 = MaxPooling2D(pool_size=(3, 3), strides=(1, 1), padding='same',\n",
        "                        name='pool5')\n",
        "\n",
        "fc6 = Dense(units = 512,  activation='relu', \n",
        "            kernel_initializer='he_normal',\n",
        "            kernel_regularizer=l2(l2_reg),\n",
        "                 name='fc6')\n",
        "dropout1 = Dropout(0.5, name=\"dropout1\")\n",
        "\n",
        "fc7 = Dense(512,  activation='relu', \n",
        "            kernel_initializer='he_normal', \n",
        "            kernel_regularizer=l2(l2_reg),\n",
        "            name='fc7')\n",
        "dropout2 = Dropout(0.5, name=\"dropout2\")\n",
        "\n",
        "fc8 = Dense(NUM_CLASSES,  activation='softmax',\n",
        "            kernel_initializer='he_normal', \n",
        "            kernel_regularizer=l2(l2_reg),\n",
        "            name='fc8_out')\n",
        "\n",
        "vgg_model_shallow = keras.Sequential([\n",
        "     conv1_1, #conv1_2, maxpool1,\n",
        "     conv2_1, #conv2_2, \n",
        "    maxpool2,\n",
        "     conv3_1, #conv3_2, conv3_3, maxpool3,\n",
        "     conv4_1, #conv4_2, conv4_3, \n",
        "    maxpool4,\n",
        "    #conv5_1, #conv5_2, conv5_3, maxpool5,\n",
        "    fc6, \n",
        "    dropout1,\n",
        "    fc7,\n",
        "    dropout2,\n",
        "    Flatten(),\n",
        "    fc8 \n",
        " ])\n"
      ],
      "execution_count": 0,
      "outputs": []
    },
    {
      "cell_type": "markdown",
      "metadata": {
        "id": "zKPsGb3H6M0e",
        "colab_type": "text"
      },
      "source": [
        "# Load the CIFAR dataset\n",
        "\n",
        "I have the CIFAR dataset on my google drive, so first I mount it, then I write a small helper function to load the batches, which are in pickled form. "
      ]
    },
    {
      "cell_type": "code",
      "metadata": {
        "id": "u7u2MWdm7aMo",
        "colab_type": "code",
        "outputId": "0955382b-06c9-4dba-9a8c-cf3401d6e232",
        "colab": {
          "base_uri": "https://localhost:8080/",
          "height": 35
        }
      },
      "source": [
        "from google.colab import drive\n",
        "drive.mount('/content/gdrive')"
      ],
      "execution_count": 0,
      "outputs": [
        {
          "output_type": "stream",
          "text": [
            "Drive already mounted at /content/gdrive; to attempt to forcibly remount, call drive.mount(\"/content/gdrive\", force_remount=True).\n"
          ],
          "name": "stdout"
        }
      ]
    },
    {
      "cell_type": "code",
      "metadata": {
        "id": "avv5jZn_7pXS",
        "colab_type": "code",
        "colab": {}
      },
      "source": [
        "data_path = '/content/gdrive/My Drive/Machine learning/CIFAR/cifar-10-batches-py'"
      ],
      "execution_count": 0,
      "outputs": []
    },
    {
      "cell_type": "code",
      "metadata": {
        "id": "ppVLT5JA6Q7z",
        "colab_type": "code",
        "colab": {}
      },
      "source": [
        "# The 10 labels of the CIFAR-10 dateset is: \n",
        "label_strings = ['airplane', 'automobile', 'bird', 'cat', 'deer', 'dog', 'frog', 'horse', 'ship', 'truck']\n",
        "\n",
        "def load_cfar10_batch(batch_id):\n",
        "    with open(data_path + '/data_batch_' + str(batch_id), mode='rb') as file:\n",
        "        # note the encoding type is 'latin1'\n",
        "        batch = pickle.load(file, encoding='latin1')\n",
        "        \n",
        "    features = batch['data'].reshape((len(batch['data']), 3, 32, 32)).transpose(0, 2, 3, 1)\n",
        "    labels = batch['labels']\n",
        "        \n",
        "    return features, labels"
      ],
      "execution_count": 0,
      "outputs": []
    },
    {
      "cell_type": "code",
      "metadata": {
        "id": "xKf-3vKx6rMS",
        "colab_type": "code",
        "outputId": "1cf85c0d-91e7-4b83-8360-8fce4325d04d",
        "colab": {
          "base_uri": "https://localhost:8080/",
          "height": 35
        }
      },
      "source": [
        "# collect the entire dataset into a single array, and a single arrays with the labels.\n",
        "# this set is small enough that this can be done without exhausting the RAM. \n",
        "data = [] \n",
        "for i in range(6):\n",
        "  data.append(load_cfar10_batch(1))\n",
        "\n",
        "features = data[0][0]\n",
        "labels = data[0][1]\n",
        "for i in range(1,len(data)):\n",
        "  features = np.append(features, data[i][0], axis=0)\n",
        "  labels += data[i][1]\n",
        "  \n",
        "features.shape, len(labels)"
      ],
      "execution_count": 0,
      "outputs": [
        {
          "output_type": "execute_result",
          "data": {
            "text/plain": [
              "((60000, 32, 32, 3), 60000)"
            ]
          },
          "metadata": {
            "tags": []
          },
          "execution_count": 33
        }
      ]
    },
    {
      "cell_type": "code",
      "metadata": {
        "id": "eA5glzOM_0I0",
        "colab_type": "code",
        "outputId": "7dec2742-b87d-42ee-d42f-8c0db479da74",
        "colab": {
          "base_uri": "https://localhost:8080/",
          "height": 499
        }
      },
      "source": [
        "# Let's plot a few images to see that the loading went correctly,\n",
        "# and to see how the dataset actually looks like. \n",
        "fig=plt.figure(figsize=(8, 8))\n",
        "columns = 4\n",
        "rows = 4\n",
        "for i in range(1, columns*rows +1):\n",
        "    img = features[i]\n",
        "    fig.add_subplot(rows, columns, i)\n",
        "    plt.imshow(img)\n",
        "    plt.axis('off')\n",
        "    plt.title(label_strings[labels[i]])\n",
        "plt.show()\n"
      ],
      "execution_count": 0,
      "outputs": [
        {
          "output_type": "display_data",
          "data": {
            "image/png": "[encoded data removed]",
            "text/plain": [
              "<Figure size 576x576 with 16 Axes>"
            ]
          },
          "metadata": {
            "tags": []
          }
        }
      ]
    },
    {
      "cell_type": "markdown",
      "metadata": {
        "id": "rOsDClaWAw0q",
        "colab_type": "text"
      },
      "source": [
        "# Making the training data from the loaded images\n",
        "Next, let's do some preprocessing of the images, to get them in a form suitable for a neural network. Essentially we just normalize each RGB channel so that they get mean 0 and standard deviation 1, using the StandardScaler from sci-kit learn. \n",
        "Then let's also use a built-in keras function to augment the data a little; essentially rotate, shear and so on, to create new, slightly different images from the original data. This acts as a further regularization, making the network more robust. "
      ]
    },
    {
      "cell_type": "code",
      "metadata": {
        "id": "SyMM5SXB_LiN",
        "colab_type": "code",
        "colab": {}
      },
      "source": [
        "from sklearn import preprocessing\n",
        "from sklearn.model_selection import train_test_split\n",
        "from keras.utils import np_utils"
      ],
      "execution_count": 0,
      "outputs": []
    },
    {
      "cell_type": "code",
      "metadata": {
        "id": "mwakHh59BvHC",
        "colab_type": "code",
        "colab": {}
      },
      "source": [
        "x_train, x_test, y_train, y_test = train_test_split(features,labels, test_size = 0.2)\n",
        "x_train = x_train.astype(float)\n",
        "x_test = x_test.astype(float)"
      ],
      "execution_count": 0,
      "outputs": []
    },
    {
      "cell_type": "code",
      "metadata": {
        "id": "sGB4LUADF9vO",
        "colab_type": "code",
        "colab": {}
      },
      "source": [
        "x_train_s = np.zeros(x_train.shape)\n",
        "x_test_s = np.zeros(x_test.shape)\n",
        "\n",
        "scalers = {}\n",
        "# Since the sklearn standard Scaler only works on 2d tensors, we have to scale each \n",
        "# channel of the images separately. This code does that, training the scaler on \n",
        "# the training data, and then applying it to the test. \n",
        "for i in range(x_train.shape[3]):\n",
        "    scalers[i] = preprocessing.StandardScaler()\n",
        "    temp = scalers[i].fit_transform(x_train[:,:,:,i].reshape((x_train.shape[0],-1)))\n",
        "    x_train_s[:,:,:,i] = temp.reshape(x_train.shape[:3])\n",
        "\n",
        "for i in range(x_test.shape[3]):\n",
        "    temp = scalers[i].fit_transform(x_test[:,:,:,i].reshape((x_test.shape[0],-1)))\n",
        "    x_test_s[:,:,:,i] = temp.reshape(x_test.shape[:3])\n"
      ],
      "execution_count": 0,
      "outputs": []
    },
    {
      "cell_type": "code",
      "metadata": {
        "id": "A9DHMnGxLQqX",
        "colab_type": "code",
        "colab": {}
      },
      "source": [
        "#makes the y_train to 1-hot vectors using built-in keras function. \n",
        "y_train = np_utils.to_categorical(y_train, NUM_CLASSES)\n",
        "y_test = np_utils.to_categorical(y_test, NUM_CLASSES)"
      ],
      "execution_count": 0,
      "outputs": []
    },
    {
      "cell_type": "code",
      "metadata": {
        "id": "_NAVPoCxKICD",
        "colab_type": "code",
        "colab": {}
      },
      "source": [
        "#this is the data augmentor, which will generate the data stream that we will train on. \n",
        "#It generates new images by rotating, zooming, shearing, shiftting the images just very slightly,\n",
        "# and also horizontally flipping them. \n",
        "aug = tf.keras.preprocessing.image.ImageDataGenerator(rotation_range=2, zoom_range=0.05,\n",
        "\twidth_shift_range=0.02, height_shift_range=0.02, shear_range=0.015,\n",
        "\thorizontal_flip=True, fill_mode=\"nearest\")\n"
      ],
      "execution_count": 0,
      "outputs": []
    },
    {
      "cell_type": "markdown",
      "metadata": {
        "id": "2NpI_jjxOXyV",
        "colab_type": "text"
      },
      "source": [
        "# Train the model\n",
        "Sets up the optimizer, the Adam one, and compiles the model. I also add some callbacks to save the weights and also the history of the training for vizualization purposes. "
      ]
    },
    {
      "cell_type": "code",
      "metadata": {
        "id": "-am10x00PVBY",
        "colab_type": "code",
        "colab": {}
      },
      "source": [
        "#Originally the vgg-net used stochastic gradient descent with momentum, but I think \n",
        "#the Adam optimizer is slightly better. \n",
        "adam = keras.optimizers.Adam(learning_rate=0.001, beta_1=0.9, beta_2 = 0.999,  epsilon=1e-8)\n",
        "\n",
        "vgg_model_shallow.compile(loss='categorical_crossentropy', optimizer=adam, metrics=['accuracy'])"
      ],
      "execution_count": 0,
      "outputs": []
    },
    {
      "cell_type": "code",
      "metadata": {
        "id": "UMmx_4QVDqIc",
        "colab_type": "code",
        "colab": {}
      },
      "source": [
        "savepath= '/content/gdrive/My Drive/Machine learning/CIFAR/keras_shallow_vggstyle_model_tmp.h5'\n",
        "\n",
        "checkpointer = ModelCheckpoint(filepath=savepath, verbose=1, save_best_only=True)\n",
        "history = History()\n"
      ],
      "execution_count": 0,
      "outputs": []
    },
    {
      "cell_type": "code",
      "metadata": {
        "id": "MUhIE9TrkIW3",
        "colab_type": "code",
        "outputId": "f00ba0d5-7b64-4be8-ffb0-2155589b40c2",
        "colab": {
          "base_uri": "https://localhost:8080/",
          "height": 2134
        }
      },
      "source": [
        "BATCH_SIZE = 200\n",
        "EPOCHS = 50\n",
        "\n",
        "data_stream = aug.flow(x_train_s, y_train, batch_size=BATCH_SIZE)\n",
        "\n",
        "vgg_model_shallow.fit_generator(data_stream, epochs = EPOCHS,\n",
        "                        steps_per_epoch= x_train_s.shape[0] // BATCH_SIZE,\n",
        "                        verbose = 1, validation_data=(x_test_s,y_test),\n",
        "                        callbacks=[history, checkpointer])              "
      ],
      "execution_count": 0,
      "outputs": [
        {
          "output_type": "stream",
          "text": [
            "Epoch 1/50\n",
            "239/240 [============================>.] - ETA: 0s - loss: 2.8759 - accuracy: 0.2676\n",
            "Epoch 00001: val_loss improved from inf to 2.12870, saving model to /content/gdrive/My Drive/Machine learning/CIFAR/keras_shallow_vggstyle_model_tmp.h5\n",
            "240/240 [==============================] - 42s 176ms/step - loss: 2.8724 - accuracy: 0.2686 - val_loss: 2.1287 - val_accuracy: 0.5336\n",
            "Epoch 2/50\n",
            "239/240 [============================>.] - ETA: 0s - loss: 1.8547 - accuracy: 0.5683\n",
            "Epoch 00002: val_loss improved from 2.12870 to 1.54395, saving model to /content/gdrive/My Drive/Machine learning/CIFAR/keras_shallow_vggstyle_model_tmp.h5\n",
            "240/240 [==============================] - 35s 147ms/step - loss: 1.8534 - accuracy: 0.5685 - val_loss: 1.5440 - val_accuracy: 0.6696\n",
            "Epoch 3/50\n",
            "239/240 [============================>.] - ETA: 0s - loss: 1.4695 - accuracy: 0.6725\n",
            "Epoch 00003: val_loss improved from 1.54395 to 1.40882, saving model to /content/gdrive/My Drive/Machine learning/CIFAR/keras_shallow_vggstyle_model_tmp.h5\n",
            "240/240 [==============================] - 35s 146ms/step - loss: 1.4693 - accuracy: 0.6726 - val_loss: 1.4088 - val_accuracy: 0.6825\n",
            "Epoch 4/50\n",
            "239/240 [============================>.] - ETA: 0s - loss: 1.2179 - accuracy: 0.7333\n",
            "Epoch 00004: val_loss improved from 1.40882 to 1.01240, saving model to /content/gdrive/My Drive/Machine learning/CIFAR/keras_shallow_vggstyle_model_tmp.h5\n",
            "240/240 [==============================] - 35s 146ms/step - loss: 1.2178 - accuracy: 0.7334 - val_loss: 1.0124 - val_accuracy: 0.8164\n",
            "Epoch 5/50\n",
            "239/240 [============================>.] - ETA: 0s - loss: 1.0421 - accuracy: 0.7882\n",
            "Epoch 00005: val_loss improved from 1.01240 to 0.89450, saving model to /content/gdrive/My Drive/Machine learning/CIFAR/keras_shallow_vggstyle_model_tmp.h5\n",
            "240/240 [==============================] - 37s 152ms/step - loss: 1.0426 - accuracy: 0.7882 - val_loss: 0.8945 - val_accuracy: 0.8516\n",
            "Epoch 6/50\n",
            "239/240 [============================>.] - ETA: 0s - loss: 0.9255 - accuracy: 0.8320\n",
            "Epoch 00006: val_loss improved from 0.89450 to 0.78764, saving model to /content/gdrive/My Drive/Machine learning/CIFAR/keras_shallow_vggstyle_model_tmp.h5\n",
            "240/240 [==============================] - 35s 147ms/step - loss: 0.9250 - accuracy: 0.8320 - val_loss: 0.7876 - val_accuracy: 0.8763\n",
            "Epoch 7/50\n",
            "239/240 [============================>.] - ETA: 0s - loss: 0.8289 - accuracy: 0.8617\n",
            "Epoch 00007: val_loss improved from 0.78764 to 0.72415, saving model to /content/gdrive/My Drive/Machine learning/CIFAR/keras_shallow_vggstyle_model_tmp.h5\n",
            "240/240 [==============================] - 35s 146ms/step - loss: 0.8289 - accuracy: 0.8617 - val_loss: 0.7242 - val_accuracy: 0.9022\n",
            "Epoch 8/50\n",
            "239/240 [============================>.] - ETA: 0s - loss: 0.7557 - accuracy: 0.8840\n",
            "Epoch 00008: val_loss did not improve from 0.72415\n",
            "240/240 [==============================] - 36s 151ms/step - loss: 0.7554 - accuracy: 0.8840 - val_loss: 0.7601 - val_accuracy: 0.8800\n",
            "Epoch 9/50\n",
            "239/240 [============================>.] - ETA: 0s - loss: 0.7117 - accuracy: 0.8989\n",
            "Epoch 00009: val_loss improved from 0.72415 to 0.57734, saving model to /content/gdrive/My Drive/Machine learning/CIFAR/keras_shallow_vggstyle_model_tmp.h5\n",
            "240/240 [==============================] - 36s 149ms/step - loss: 0.7115 - accuracy: 0.8989 - val_loss: 0.5773 - val_accuracy: 0.9591\n",
            "Epoch 10/50\n",
            "239/240 [============================>.] - ETA: 0s - loss: 0.6758 - accuracy: 0.9110\n",
            "Epoch 00010: val_loss did not improve from 0.57734\n",
            "240/240 [==============================] - 35s 145ms/step - loss: 0.6757 - accuracy: 0.9110 - val_loss: 0.6522 - val_accuracy: 0.9195\n",
            "Epoch 11/50\n",
            "239/240 [============================>.] - ETA: 0s - loss: 0.6406 - accuracy: 0.9247\n",
            "Epoch 00011: val_loss did not improve from 0.57734\n",
            "240/240 [==============================] - 36s 151ms/step - loss: 0.6407 - accuracy: 0.9247 - val_loss: 0.6245 - val_accuracy: 0.9285\n",
            "Epoch 12/50\n",
            "239/240 [============================>.] - ETA: 0s - loss: 0.6262 - accuracy: 0.9299\n",
            "Epoch 00012: val_loss improved from 0.57734 to 0.49602, saving model to /content/gdrive/My Drive/Machine learning/CIFAR/keras_shallow_vggstyle_model_tmp.h5\n",
            "240/240 [==============================] - 36s 150ms/step - loss: 0.6258 - accuracy: 0.9299 - val_loss: 0.4960 - val_accuracy: 0.9819\n",
            "Epoch 13/50\n",
            "239/240 [============================>.] - ETA: 0s - loss: 0.6005 - accuracy: 0.9354\n",
            "Epoch 00013: val_loss did not improve from 0.49602\n",
            "240/240 [==============================] - 35s 144ms/step - loss: 0.6007 - accuracy: 0.9354 - val_loss: 0.5123 - val_accuracy: 0.9681\n",
            "Epoch 14/50\n",
            "239/240 [============================>.] - ETA: 0s - loss: 0.5943 - accuracy: 0.9387\n",
            "Epoch 00014: val_loss did not improve from 0.49602\n",
            "240/240 [==============================] - 36s 150ms/step - loss: 0.5942 - accuracy: 0.9387 - val_loss: 0.4992 - val_accuracy: 0.9740\n",
            "Epoch 15/50\n",
            "239/240 [============================>.] - ETA: 0s - loss: 0.5777 - accuracy: 0.9443\n",
            "Epoch 00015: val_loss did not improve from 0.49602\n",
            "240/240 [==============================] - 35s 144ms/step - loss: 0.5778 - accuracy: 0.9443 - val_loss: 0.4995 - val_accuracy: 0.9748\n",
            "Epoch 16/50\n",
            "239/240 [============================>.] - ETA: 0s - loss: 0.5648 - accuracy: 0.9477\n",
            "Epoch 00016: val_loss did not improve from 0.49602\n",
            "240/240 [==============================] - 35s 144ms/step - loss: 0.5650 - accuracy: 0.9477 - val_loss: 0.5014 - val_accuracy: 0.9712\n",
            "Epoch 17/50\n",
            "239/240 [============================>.] - ETA: 0s - loss: 0.5607 - accuracy: 0.9486\n",
            "Epoch 00017: val_loss improved from 0.49602 to 0.47139, saving model to /content/gdrive/My Drive/Machine learning/CIFAR/keras_shallow_vggstyle_model_tmp.h5\n",
            "240/240 [==============================] - 36s 152ms/step - loss: 0.5606 - accuracy: 0.9486 - val_loss: 0.4714 - val_accuracy: 0.9839\n",
            "Epoch 18/50\n",
            "239/240 [============================>.] - ETA: 0s - loss: 0.5487 - accuracy: 0.9507\n",
            "Epoch 00018: val_loss improved from 0.47139 to 0.45353, saving model to /content/gdrive/My Drive/Machine learning/CIFAR/keras_shallow_vggstyle_model_tmp.h5\n",
            "240/240 [==============================] - 35s 146ms/step - loss: 0.5489 - accuracy: 0.9507 - val_loss: 0.4535 - val_accuracy: 0.9866\n",
            "Epoch 19/50\n",
            "239/240 [============================>.] - ETA: 0s - loss: 0.5383 - accuracy: 0.9487\n",
            "Epoch 00019: val_loss did not improve from 0.45353\n",
            "240/240 [==============================] - 36s 152ms/step - loss: 0.5384 - accuracy: 0.9488 - val_loss: 0.4567 - val_accuracy: 0.9837\n",
            "Epoch 20/50\n",
            "239/240 [============================>.] - ETA: 0s - loss: 0.5404 - accuracy: 0.9528\n",
            "Epoch 00020: val_loss did not improve from 0.45353\n",
            "240/240 [==============================] - 35s 147ms/step - loss: 0.5403 - accuracy: 0.9527 - val_loss: 0.4765 - val_accuracy: 0.9761\n",
            "Epoch 21/50\n",
            "239/240 [============================>.] - ETA: 0s - loss: 0.5379 - accuracy: 0.9522\n",
            "Epoch 00021: val_loss did not improve from 0.45353\n",
            "240/240 [==============================] - 35s 145ms/step - loss: 0.5377 - accuracy: 0.9521 - val_loss: 0.4680 - val_accuracy: 0.9779\n",
            "Epoch 22/50\n",
            "239/240 [============================>.] - ETA: 0s - loss: 0.5218 - accuracy: 0.9572\n",
            "Epoch 00022: val_loss did not improve from 0.45353\n",
            "240/240 [==============================] - 36s 152ms/step - loss: 0.5218 - accuracy: 0.9572 - val_loss: 0.4830 - val_accuracy: 0.9707\n",
            "Epoch 23/50\n",
            "239/240 [============================>.] - ETA: 0s - loss: 0.5260 - accuracy: 0.9553\n",
            "Epoch 00023: val_loss did not improve from 0.45353\n",
            "240/240 [==============================] - 35s 148ms/step - loss: 0.5260 - accuracy: 0.9553 - val_loss: 0.4677 - val_accuracy: 0.9779\n",
            "Epoch 24/50\n",
            "239/240 [============================>.] - ETA: 0s - loss: 0.5228 - accuracy: 0.9559\n",
            "Epoch 00024: val_loss improved from 0.45353 to 0.43429, saving model to /content/gdrive/My Drive/Machine learning/CIFAR/keras_shallow_vggstyle_model_tmp.h5\n",
            "240/240 [==============================] - 35s 148ms/step - loss: 0.5228 - accuracy: 0.9559 - val_loss: 0.4343 - val_accuracy: 0.9895\n",
            "Epoch 25/50\n",
            "239/240 [============================>.] - ETA: 0s - loss: 0.5100 - accuracy: 0.9615\n",
            "Epoch 00025: val_loss did not improve from 0.43429\n",
            "240/240 [==============================] - 37s 153ms/step - loss: 0.5102 - accuracy: 0.9614 - val_loss: 0.4483 - val_accuracy: 0.9835\n",
            "Epoch 26/50\n",
            "155/240 [==================>...........] - ETA: 11s - loss: 0.5175 - accuracy: 0.9585"
          ],
          "name": "stdout"
        },
        {
          "output_type": "error",
          "ename": "KeyboardInterrupt",
          "evalue": "ignored",
          "traceback": [
            "\u001b[0;31m---------------------------------------------------------------------------\u001b[0m",
            "\u001b[0;31mKeyboardInterrupt\u001b[0m                         Traceback (most recent call last)",
            "\u001b[0;32m<ipython-input-68-c7e9101852e3>\u001b[0m in \u001b[0;36m<module>\u001b[0;34m()\u001b[0m\n\u001b[1;32m      7\u001b[0m                         \u001b[0msteps_per_epoch\u001b[0m\u001b[0;34m=\u001b[0m \u001b[0mx_train_s\u001b[0m\u001b[0;34m.\u001b[0m\u001b[0mshape\u001b[0m\u001b[0;34m[\u001b[0m\u001b[0;36m0\u001b[0m\u001b[0;34m]\u001b[0m \u001b[0;34m//\u001b[0m \u001b[0mBATCH_SIZE\u001b[0m\u001b[0;34m,\u001b[0m\u001b[0;34m\u001b[0m\u001b[0;34m\u001b[0m\u001b[0m\n\u001b[1;32m      8\u001b[0m                         \u001b[0mverbose\u001b[0m \u001b[0;34m=\u001b[0m \u001b[0;36m1\u001b[0m\u001b[0;34m,\u001b[0m \u001b[0mvalidation_data\u001b[0m\u001b[0;34m=\u001b[0m\u001b[0;34m(\u001b[0m\u001b[0mx_test_s\u001b[0m\u001b[0;34m,\u001b[0m\u001b[0my_test\u001b[0m\u001b[0;34m)\u001b[0m\u001b[0;34m,\u001b[0m\u001b[0;34m\u001b[0m\u001b[0;34m\u001b[0m\u001b[0m\n\u001b[0;32m----> 9\u001b[0;31m                         callbacks=[history, checkpointer])              \n\u001b[0m",
            "\u001b[0;32m/usr/local/lib/python3.6/dist-packages/tensorflow/python/keras/engine/training.py\u001b[0m in \u001b[0;36mfit_generator\u001b[0;34m(self, generator, steps_per_epoch, epochs, verbose, callbacks, validation_data, validation_steps, validation_freq, class_weight, max_queue_size, workers, use_multiprocessing, shuffle, initial_epoch)\u001b[0m\n\u001b[1;32m   1513\u001b[0m         \u001b[0mshuffle\u001b[0m\u001b[0;34m=\u001b[0m\u001b[0mshuffle\u001b[0m\u001b[0;34m,\u001b[0m\u001b[0;34m\u001b[0m\u001b[0;34m\u001b[0m\u001b[0m\n\u001b[1;32m   1514\u001b[0m         \u001b[0minitial_epoch\u001b[0m\u001b[0;34m=\u001b[0m\u001b[0minitial_epoch\u001b[0m\u001b[0;34m,\u001b[0m\u001b[0;34m\u001b[0m\u001b[0;34m\u001b[0m\u001b[0m\n\u001b[0;32m-> 1515\u001b[0;31m         steps_name='steps_per_epoch')\n\u001b[0m\u001b[1;32m   1516\u001b[0m \u001b[0;34m\u001b[0m\u001b[0m\n\u001b[1;32m   1517\u001b[0m   def evaluate_generator(self,\n",
            "\u001b[0;32m/usr/local/lib/python3.6/dist-packages/tensorflow/python/keras/engine/training_generator.py\u001b[0m in \u001b[0;36mmodel_iteration\u001b[0;34m(model, data, steps_per_epoch, epochs, verbose, callbacks, validation_data, validation_steps, validation_freq, class_weight, max_queue_size, workers, use_multiprocessing, shuffle, initial_epoch, mode, batch_size, steps_name, **kwargs)\u001b[0m\n\u001b[1;32m    211\u001b[0m     \u001b[0mstep\u001b[0m \u001b[0;34m=\u001b[0m \u001b[0;36m0\u001b[0m\u001b[0;34m\u001b[0m\u001b[0;34m\u001b[0m\u001b[0m\n\u001b[1;32m    212\u001b[0m     \u001b[0;32mwhile\u001b[0m \u001b[0mstep\u001b[0m \u001b[0;34m<\u001b[0m \u001b[0mtarget_steps\u001b[0m\u001b[0;34m:\u001b[0m\u001b[0;34m\u001b[0m\u001b[0;34m\u001b[0m\u001b[0m\n\u001b[0;32m--> 213\u001b[0;31m       \u001b[0mbatch_data\u001b[0m \u001b[0;34m=\u001b[0m \u001b[0m_get_next_batch\u001b[0m\u001b[0;34m(\u001b[0m\u001b[0mgenerator\u001b[0m\u001b[0;34m,\u001b[0m \u001b[0mmode\u001b[0m\u001b[0;34m)\u001b[0m\u001b[0;34m\u001b[0m\u001b[0;34m\u001b[0m\u001b[0m\n\u001b[0m\u001b[1;32m    214\u001b[0m       \u001b[0;32mif\u001b[0m \u001b[0mbatch_data\u001b[0m \u001b[0;32mis\u001b[0m \u001b[0;32mNone\u001b[0m\u001b[0;34m:\u001b[0m\u001b[0;34m\u001b[0m\u001b[0;34m\u001b[0m\u001b[0m\n\u001b[1;32m    215\u001b[0m         \u001b[0;32mif\u001b[0m \u001b[0mis_dataset\u001b[0m\u001b[0;34m:\u001b[0m\u001b[0;34m\u001b[0m\u001b[0;34m\u001b[0m\u001b[0m\n",
            "\u001b[0;32m/usr/local/lib/python3.6/dist-packages/tensorflow/python/keras/engine/training_generator.py\u001b[0m in \u001b[0;36m_get_next_batch\u001b[0;34m(generator, mode)\u001b[0m\n\u001b[1;32m    353\u001b[0m   \u001b[0;34m\"\"\"Retrieves the next batch of input data.\"\"\"\u001b[0m\u001b[0;34m\u001b[0m\u001b[0;34m\u001b[0m\u001b[0m\n\u001b[1;32m    354\u001b[0m   \u001b[0;32mtry\u001b[0m\u001b[0;34m:\u001b[0m\u001b[0;34m\u001b[0m\u001b[0;34m\u001b[0m\u001b[0m\n\u001b[0;32m--> 355\u001b[0;31m     \u001b[0mgenerator_output\u001b[0m \u001b[0;34m=\u001b[0m \u001b[0mnext\u001b[0m\u001b[0;34m(\u001b[0m\u001b[0mgenerator\u001b[0m\u001b[0;34m)\u001b[0m\u001b[0;34m\u001b[0m\u001b[0;34m\u001b[0m\u001b[0m\n\u001b[0m\u001b[1;32m    356\u001b[0m   \u001b[0;32mexcept\u001b[0m \u001b[0;34m(\u001b[0m\u001b[0mStopIteration\u001b[0m\u001b[0;34m,\u001b[0m \u001b[0merrors\u001b[0m\u001b[0;34m.\u001b[0m\u001b[0mOutOfRangeError\u001b[0m\u001b[0;34m)\u001b[0m\u001b[0;34m:\u001b[0m\u001b[0;34m\u001b[0m\u001b[0;34m\u001b[0m\u001b[0m\n\u001b[1;32m    357\u001b[0m     \u001b[0;32mreturn\u001b[0m \u001b[0;32mNone\u001b[0m\u001b[0;34m\u001b[0m\u001b[0;34m\u001b[0m\u001b[0m\n",
            "\u001b[0;32m/usr/local/lib/python3.6/dist-packages/tensorflow/python/keras/utils/data_utils.py\u001b[0m in \u001b[0;36mget\u001b[0;34m(self)\u001b[0m\n\u001b[1;32m    647\u001b[0m     \u001b[0;32mtry\u001b[0m\u001b[0;34m:\u001b[0m\u001b[0;34m\u001b[0m\u001b[0;34m\u001b[0m\u001b[0m\n\u001b[1;32m    648\u001b[0m       \u001b[0;32mwhile\u001b[0m \u001b[0mself\u001b[0m\u001b[0;34m.\u001b[0m\u001b[0mis_running\u001b[0m\u001b[0;34m(\u001b[0m\u001b[0;34m)\u001b[0m\u001b[0;34m:\u001b[0m\u001b[0;34m\u001b[0m\u001b[0;34m\u001b[0m\u001b[0m\n\u001b[0;32m--> 649\u001b[0;31m         \u001b[0minputs\u001b[0m \u001b[0;34m=\u001b[0m \u001b[0mself\u001b[0m\u001b[0;34m.\u001b[0m\u001b[0mqueue\u001b[0m\u001b[0;34m.\u001b[0m\u001b[0mget\u001b[0m\u001b[0;34m(\u001b[0m\u001b[0mblock\u001b[0m\u001b[0;34m=\u001b[0m\u001b[0;32mTrue\u001b[0m\u001b[0;34m)\u001b[0m\u001b[0;34m.\u001b[0m\u001b[0mget\u001b[0m\u001b[0;34m(\u001b[0m\u001b[0;34m)\u001b[0m\u001b[0;34m\u001b[0m\u001b[0;34m\u001b[0m\u001b[0m\n\u001b[0m\u001b[1;32m    650\u001b[0m         \u001b[0mself\u001b[0m\u001b[0;34m.\u001b[0m\u001b[0mqueue\u001b[0m\u001b[0;34m.\u001b[0m\u001b[0mtask_done\u001b[0m\u001b[0;34m(\u001b[0m\u001b[0;34m)\u001b[0m\u001b[0;34m\u001b[0m\u001b[0;34m\u001b[0m\u001b[0m\n\u001b[1;32m    651\u001b[0m         \u001b[0;32mif\u001b[0m \u001b[0minputs\u001b[0m \u001b[0;32mis\u001b[0m \u001b[0;32mnot\u001b[0m \u001b[0;32mNone\u001b[0m\u001b[0;34m:\u001b[0m\u001b[0;34m\u001b[0m\u001b[0;34m\u001b[0m\u001b[0m\n",
            "\u001b[0;32m/usr/lib/python3.6/multiprocessing/pool.py\u001b[0m in \u001b[0;36mget\u001b[0;34m(self, timeout)\u001b[0m\n\u001b[1;32m    662\u001b[0m \u001b[0;34m\u001b[0m\u001b[0m\n\u001b[1;32m    663\u001b[0m     \u001b[0;32mdef\u001b[0m \u001b[0mget\u001b[0m\u001b[0;34m(\u001b[0m\u001b[0mself\u001b[0m\u001b[0;34m,\u001b[0m \u001b[0mtimeout\u001b[0m\u001b[0;34m=\u001b[0m\u001b[0;32mNone\u001b[0m\u001b[0;34m)\u001b[0m\u001b[0;34m:\u001b[0m\u001b[0;34m\u001b[0m\u001b[0;34m\u001b[0m\u001b[0m\n\u001b[0;32m--> 664\u001b[0;31m         \u001b[0mself\u001b[0m\u001b[0;34m.\u001b[0m\u001b[0mwait\u001b[0m\u001b[0;34m(\u001b[0m\u001b[0mtimeout\u001b[0m\u001b[0;34m)\u001b[0m\u001b[0;34m\u001b[0m\u001b[0;34m\u001b[0m\u001b[0m\n\u001b[0m\u001b[1;32m    665\u001b[0m         \u001b[0;32mif\u001b[0m \u001b[0;32mnot\u001b[0m \u001b[0mself\u001b[0m\u001b[0;34m.\u001b[0m\u001b[0mready\u001b[0m\u001b[0;34m(\u001b[0m\u001b[0;34m)\u001b[0m\u001b[0;34m:\u001b[0m\u001b[0;34m\u001b[0m\u001b[0;34m\u001b[0m\u001b[0m\n\u001b[1;32m    666\u001b[0m             \u001b[0;32mraise\u001b[0m \u001b[0mTimeoutError\u001b[0m\u001b[0;34m\u001b[0m\u001b[0;34m\u001b[0m\u001b[0m\n",
            "\u001b[0;32m/usr/lib/python3.6/multiprocessing/pool.py\u001b[0m in \u001b[0;36mwait\u001b[0;34m(self, timeout)\u001b[0m\n\u001b[1;32m    659\u001b[0m \u001b[0;34m\u001b[0m\u001b[0m\n\u001b[1;32m    660\u001b[0m     \u001b[0;32mdef\u001b[0m \u001b[0mwait\u001b[0m\u001b[0;34m(\u001b[0m\u001b[0mself\u001b[0m\u001b[0;34m,\u001b[0m \u001b[0mtimeout\u001b[0m\u001b[0;34m=\u001b[0m\u001b[0;32mNone\u001b[0m\u001b[0;34m)\u001b[0m\u001b[0;34m:\u001b[0m\u001b[0;34m\u001b[0m\u001b[0;34m\u001b[0m\u001b[0m\n\u001b[0;32m--> 661\u001b[0;31m         \u001b[0mself\u001b[0m\u001b[0;34m.\u001b[0m\u001b[0m_event\u001b[0m\u001b[0;34m.\u001b[0m\u001b[0mwait\u001b[0m\u001b[0;34m(\u001b[0m\u001b[0mtimeout\u001b[0m\u001b[0;34m)\u001b[0m\u001b[0;34m\u001b[0m\u001b[0;34m\u001b[0m\u001b[0m\n\u001b[0m\u001b[1;32m    662\u001b[0m \u001b[0;34m\u001b[0m\u001b[0m\n\u001b[1;32m    663\u001b[0m     \u001b[0;32mdef\u001b[0m \u001b[0mget\u001b[0m\u001b[0;34m(\u001b[0m\u001b[0mself\u001b[0m\u001b[0;34m,\u001b[0m \u001b[0mtimeout\u001b[0m\u001b[0;34m=\u001b[0m\u001b[0;32mNone\u001b[0m\u001b[0;34m)\u001b[0m\u001b[0;34m:\u001b[0m\u001b[0;34m\u001b[0m\u001b[0;34m\u001b[0m\u001b[0m\n",
            "\u001b[0;32m/usr/lib/python3.6/threading.py\u001b[0m in \u001b[0;36mwait\u001b[0;34m(self, timeout)\u001b[0m\n\u001b[1;32m    549\u001b[0m             \u001b[0msignaled\u001b[0m \u001b[0;34m=\u001b[0m \u001b[0mself\u001b[0m\u001b[0;34m.\u001b[0m\u001b[0m_flag\u001b[0m\u001b[0;34m\u001b[0m\u001b[0;34m\u001b[0m\u001b[0m\n\u001b[1;32m    550\u001b[0m             \u001b[0;32mif\u001b[0m \u001b[0;32mnot\u001b[0m \u001b[0msignaled\u001b[0m\u001b[0;34m:\u001b[0m\u001b[0;34m\u001b[0m\u001b[0;34m\u001b[0m\u001b[0m\n\u001b[0;32m--> 551\u001b[0;31m                 \u001b[0msignaled\u001b[0m \u001b[0;34m=\u001b[0m \u001b[0mself\u001b[0m\u001b[0;34m.\u001b[0m\u001b[0m_cond\u001b[0m\u001b[0;34m.\u001b[0m\u001b[0mwait\u001b[0m\u001b[0;34m(\u001b[0m\u001b[0mtimeout\u001b[0m\u001b[0;34m)\u001b[0m\u001b[0;34m\u001b[0m\u001b[0;34m\u001b[0m\u001b[0m\n\u001b[0m\u001b[1;32m    552\u001b[0m             \u001b[0;32mreturn\u001b[0m \u001b[0msignaled\u001b[0m\u001b[0;34m\u001b[0m\u001b[0;34m\u001b[0m\u001b[0m\n\u001b[1;32m    553\u001b[0m \u001b[0;34m\u001b[0m\u001b[0m\n",
            "\u001b[0;32m/usr/lib/python3.6/threading.py\u001b[0m in \u001b[0;36mwait\u001b[0;34m(self, timeout)\u001b[0m\n\u001b[1;32m    293\u001b[0m         \u001b[0;32mtry\u001b[0m\u001b[0;34m:\u001b[0m    \u001b[0;31m# restore state no matter what (e.g., KeyboardInterrupt)\u001b[0m\u001b[0;34m\u001b[0m\u001b[0;34m\u001b[0m\u001b[0m\n\u001b[1;32m    294\u001b[0m             \u001b[0;32mif\u001b[0m \u001b[0mtimeout\u001b[0m \u001b[0;32mis\u001b[0m \u001b[0;32mNone\u001b[0m\u001b[0;34m:\u001b[0m\u001b[0;34m\u001b[0m\u001b[0;34m\u001b[0m\u001b[0m\n\u001b[0;32m--> 295\u001b[0;31m                 \u001b[0mwaiter\u001b[0m\u001b[0;34m.\u001b[0m\u001b[0macquire\u001b[0m\u001b[0;34m(\u001b[0m\u001b[0;34m)\u001b[0m\u001b[0;34m\u001b[0m\u001b[0;34m\u001b[0m\u001b[0m\n\u001b[0m\u001b[1;32m    296\u001b[0m                 \u001b[0mgotit\u001b[0m \u001b[0;34m=\u001b[0m \u001b[0;32mTrue\u001b[0m\u001b[0;34m\u001b[0m\u001b[0;34m\u001b[0m\u001b[0m\n\u001b[1;32m    297\u001b[0m             \u001b[0;32melse\u001b[0m\u001b[0;34m:\u001b[0m\u001b[0;34m\u001b[0m\u001b[0;34m\u001b[0m\u001b[0m\n",
            "\u001b[0;31mKeyboardInterrupt\u001b[0m: "
          ]
        }
      ]
    },
    {
      "cell_type": "markdown",
      "metadata": {
        "id": "RjfIRKh2ktHb",
        "colab_type": "text"
      },
      "source": [
        ""
      ]
    },
    {
      "cell_type": "code",
      "metadata": {
        "id": "S57ND6qBkP3J",
        "colab_type": "code",
        "colab": {}
      },
      "source": [
        "#Save the final model to disk as well: \n",
        "savepath= '/content/gdrive/My Drive/Machine learning/CIFAR/keras_shallow_vggstyle_model.h5'\n",
        "vgg_model_shallow.save(savepath)"
      ],
      "execution_count": 0,
      "outputs": []
    },
    {
      "cell_type": "markdown",
      "metadata": {
        "id": "GemWfBToMF4p",
        "colab_type": "text"
      },
      "source": [
        "So with this model, I got an validation accuracy of 98%, which seems pretty good. "
      ]
    },
    {
      "cell_type": "code",
      "metadata": {
        "id": "iuLiu4HNyfq4",
        "colab_type": "code",
        "outputId": "b76b84ed-08ce-4a20-841e-a93ccb31c293",
        "colab": {
          "base_uri": "https://localhost:8080/",
          "height": 572
        }
      },
      "source": [
        "vgg_model_shallow.summary()"
      ],
      "execution_count": 0,
      "outputs": [
        {
          "output_type": "stream",
          "text": [
            "Model: \"sequential_4\"\n",
            "_________________________________________________________________\n",
            "Layer (type)                 Output Shape              Param #   \n",
            "=================================================================\n",
            "conv1_1 (Conv2D)             multiple                  448       \n",
            "_________________________________________________________________\n",
            "conv2_1 (Conv2D)             multiple                  4640      \n",
            "_________________________________________________________________\n",
            "pool2 (MaxPooling2D)         multiple                  0         \n",
            "_________________________________________________________________\n",
            "conv3_1 (Conv2D)             multiple                  18496     \n",
            "_________________________________________________________________\n",
            "conv4_1 (Conv2D)             multiple                  73856     \n",
            "_________________________________________________________________\n",
            "pool4 (MaxPooling2D)         multiple                  0         \n",
            "_________________________________________________________________\n",
            "fc6 (Dense)                  multiple                  66048     \n",
            "_________________________________________________________________\n",
            "dropout1 (Dropout)           multiple                  0         \n",
            "_________________________________________________________________\n",
            "fc7 (Dense)                  multiple                  262656    \n",
            "_________________________________________________________________\n",
            "dropout2 (Dropout)           multiple                  0         \n",
            "_________________________________________________________________\n",
            "flatten_4 (Flatten)          multiple                  0         \n",
            "_________________________________________________________________\n",
            "fc8_out (Dense)              multiple                  327690    \n",
            "=================================================================\n",
            "Total params: 753,834\n",
            "Trainable params: 753,834\n",
            "Non-trainable params: 0\n",
            "_________________________________________________________________\n"
          ],
          "name": "stdout"
        }
      ]
    },
    {
      "cell_type": "markdown",
      "metadata": {
        "id": "BNcSIiJjLZZJ",
        "colab_type": "text"
      },
      "source": [
        "# Training visualization\n",
        "We can finally use the History callback to have a look at how the training went.\n",
        "\n",
        "The explanation why the validation accuracy is consistenly higher than the training one is probably because I'm using a dropout of 50%; which is applied during training but not during the validation phase. At least that's how I understand it: I guess one can test this by checking the behavior when using less or no dropout... \n",
        "\n"
      ]
    },
    {
      "cell_type": "code",
      "metadata": {
        "id": "js4xJ8BFLjg2",
        "colab_type": "code",
        "colab": {}
      },
      "source": [
        "acc = history.history['accuracy']\n",
        "val_acc = history.history['val_accuracy']\n",
        "loss = history.history['loss']\n",
        "val_loss = history.history['val_loss']"
      ],
      "execution_count": 0,
      "outputs": []
    },
    {
      "cell_type": "code",
      "metadata": {
        "id": "l9i62ai_PooF",
        "colab_type": "code",
        "outputId": "8c7237e5-b216-48d6-a109-9a58f4eab0b9",
        "colab": {
          "base_uri": "https://localhost:8080/",
          "height": 295
        }
      },
      "source": [
        "plt.plot(acc,label='accuracy')\n",
        "plt.plot(val_acc,label='val accuracy')\n",
        "plt.xlabel('epochs')\n",
        "plt.title('accuracy and val. accuracy')\n",
        "plt.legend()\n",
        "plt.show()"
      ],
      "execution_count": 0,
      "outputs": [
        {
          "output_type": "display_data",
          "data": {
            "image/png": "[encoded data removed]",
            "text/plain": [
              "<Figure size 432x288 with 1 Axes>"
            ]
          },
          "metadata": {
            "tags": []
          }
        }
      ]
    },
    {
      "cell_type": "code",
      "metadata": {
        "id": "6RoTC9GpQtQH",
        "colab_type": "code",
        "outputId": "978ff079-96f4-4bb0-c1f5-7c34a6c59318",
        "colab": {
          "base_uri": "https://localhost:8080/",
          "height": 295
        }
      },
      "source": [
        "plt.plot(loss,label='loss')\n",
        "plt.plot(val_loss,label='val loss')\n",
        "plt.xlabel('epochs')\n",
        "plt.title('loss and val. loss')\n",
        "plt.legend()\n",
        "plt.show()"
      ],
      "execution_count": 0,
      "outputs": [
        {
          "output_type": "display_data",
          "data": {
            "image/png": "[encoded data removed]",
            "text/plain": [
              "<Figure size 432x288 with 1 Axes>"
            ]
          },
          "metadata": {
            "tags": []
          }
        }
      ]
    },
    {
      "cell_type": "code",
      "metadata": {
        "id": "XOxeovAaQI-y",
        "colab_type": "code",
        "colab": {}
      },
      "source": [
        ""
      ],
      "execution_count": 0,
      "outputs": []
    }
  ]
}